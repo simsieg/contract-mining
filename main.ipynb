{
 "cells": [
  {
   "cell_type": "markdown",
   "metadata": {},
   "source": [
    "# Mining Processes From Smart Contracts"
   ]
  },
  {
   "cell_type": "code",
   "execution_count": null,
   "metadata": {},
   "outputs": [],
   "source": [
    "from web3 import Web3\n",
    "w3 = Web3(Web3.WebsocketProvider(\"ws://127.0.0.1:8545\", websocket_kwargs={'timeout': 60}))\n",
    "w3.isConnected()"
   ]
  },
  {
   "cell_type": "code",
   "execution_count": null,
   "metadata": {
    "scrolled": false
   },
   "outputs": [],
   "source": [
    "CONTRACT_ADDRESS_A = \"0x54497Da55F80B125a2050373fb7230e5A4eFA077\"\n",
    "CONTRACT_ADDRESS_B = \"0x7F79072c37A02e1F9474aa18Be0B4FeAA68cE624\"\n",
    "PARTICIPANTS_CONTAINER = \"0xcd23eCBBdBcC03aE1Bcf658Fd3893F2c6f87DeEf\"\n",
    "\n",
    "\n",
    "block = w3.eth.getCode(CONTRACT_ADDRESS_A)\n",
    "contract = w3.eth.contract(CONTRACT_ADDRESS_A)\n",
    "\n",
    "#print(block)\n",
    "#print(contract)\n",
    "\n",
    "contract_a_filter = w3.eth.filter({\n",
    "    \"fromBlock\": \"0x0\",\n",
    "    \"toBlock\": \"latest\",\n",
    "    \"address\": CONTRACT_ADDRESS_A\n",
    "})\n",
    "\n",
    "contract_a_eventlist = contract_a_filter.get_all_entries()\n",
    "print(contract_a_eventlist)\n",
    "print(\"###########\\n\\n\")\n",
    "\n",
    "\n",
    "contract_b_filter = w3.eth.filter({\n",
    "    \"fromBlock\": \"0x0\",\n",
    "    \"toBlock\": \"latest\",\n",
    "    \"address\": CONTRACT_ADDRESS_B\n",
    "})\n",
    "\n",
    "contract_b_eventlist = contract_b_filter.get_all_entries()\n",
    "print(contract_b_eventlist)\n",
    "print(\"###########\\n\\n\")\n",
    "\n",
    "\n",
    "participants_container_filter = w3.eth.filter({\n",
    "    \"fromBlock\": \"0x0\",\n",
    "    \"toBlock\": \"latest\",\n",
    "    \"address\": PARTICIPANTS_CONTAINER\n",
    "})\n",
    "\n",
    "participants_container_eventlist = participants_container_filter.get_all_entries()\n",
    "print(participants_container_eventlist)"
   ]
  },
  {
   "cell_type": "code",
   "execution_count": null,
   "metadata": {},
   "outputs": [],
   "source": []
  }
 ],
 "metadata": {
  "kernelspec": {
   "display_name": "Python 3",
   "language": "python",
   "name": "python3"
  },
  "language_info": {
   "codemirror_mode": {
    "name": "ipython",
    "version": 3
   },
   "file_extension": ".py",
   "mimetype": "text/x-python",
   "name": "python",
   "nbconvert_exporter": "python",
   "pygments_lexer": "ipython3",
   "version": "3.6.9"
  }
 },
 "nbformat": 4,
 "nbformat_minor": 2
}
