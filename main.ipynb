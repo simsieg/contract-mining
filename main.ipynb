{
 "cells": [
  {
   "cell_type": "markdown",
   "metadata": {},
   "source": [
    "# Mining Processes From Smart Contracts"
   ]
  },
  {
   "cell_type": "code",
   "execution_count": null,
   "metadata": {},
   "outputs": [],
   "source": [
    "from web3 import Web3\n",
    "w3 = Web3(Web3.WebsocketProvider(\"ws://127.0.0.1:8545\", websocket_kwargs={'timeout': 60}))\n",
    "w3.isConnected()"
   ]
  },
  {
   "cell_type": "code",
   "execution_count": null,
   "metadata": {},
   "outputs": [],
   "source": [
    "import pprint\n",
    "pp = pprint.PrettyPrinter(indent=2)"
   ]
  },
  {
   "cell_type": "code",
   "execution_count": null,
   "metadata": {},
   "outputs": [],
   "source": [
    "import sha3\n",
    "k = sha3.keccak_256()\n",
    "k.update(b\"Created(bytes)\")\n",
    "pp.pprint(k.hexdigest())\n",
    "event_1 = k.hexdigest()\n",
    "print(event_1)\n"
   ]
  },
  {
   "cell_type": "code",
   "execution_count": null,
   "metadata": {
    "scrolled": false
   },
   "outputs": [],
   "source": [
    "CONTRACT_ADDRESS_A = \"0x54497Da55F80B125a2050373fb7230e5A4eFA077\"\n",
    "CONTRACT_ADDRESS_B = \"0x7F79072c37A02e1F9474aa18Be0B4FeAA68cE624\"\n",
    "PARTICIPANTS_CONTAINER = \"0xcd23eCBBdBcC03aE1Bcf658Fd3893F2c6f87DeEf\"\n",
    "\n",
    "ROOT_CONTRACT_ADDRESS = w3.toChecksumAddress(\"0xbfca45b31a0ea9cc5081693d2f7fe5675449a32c\") # first deployed contract from blockchain_etl\n"
   ]
  },
  {
   "cell_type": "code",
   "execution_count": null,
   "metadata": {
    "scrolled": false
   },
   "outputs": [],
   "source": [
    "contract_a_filter = w3.eth.filter({\n",
    "    \"fromBlock\": \"0x0\",\n",
    "    \"toBlock\": \"latest\",\n",
    "    \"address\": ROOT_CONTRACT_ADDRESS\n",
    "})\n",
    "\n",
    "contract_a_eventlist = contract_a_filter.get_all_entries()\n",
    "pp.pprint(contract_a_eventlist)"
   ]
  },
  {
   "cell_type": "code",
   "execution_count": null,
   "metadata": {
    "scrolled": false
   },
   "outputs": [],
   "source": [
    "### From BACHOFNER ET AL.\n",
    "### REWRITE BEFORE COMMITTING\n",
    "\n",
    "from eth_utils import decode_hex, encode_hex\n",
    "from rlp import encode\n",
    "\n",
    "def get_all_transactions_for_contract_address(contract_address=CONTRACT_ADDRESS_A, start_block_number=0, end_block_number=40000):\n",
    "    contract_address_transactions = list()\n",
    "    pp.pprint(f\"Searching for transactions to/from account {contract_address} within blocks {start_block_number} and {end_block_number}\")\n",
    "    \n",
    "    for block_number in range(start_block_number, end_block_number+1):\n",
    "        block = w3.eth.getBlock(block_number, full_transactions=True)\n",
    "        \n",
    "        transactions = block[\"transactions\"]\n",
    "        for transaction in transactions:\n",
    "            if transaction[\"from\"] == contract_address:\n",
    "                contract_address_transactions.append(transaction)\n",
    "                continue\n",
    "          \n",
    "            if \"to\" in transaction and transaction[\"to\"] == contract_address:\n",
    "                contract_address_transactions.append(transaction)\n",
    "          \n",
    "    return contract_address_transactions\n",
    "\n",
    "\n",
    "def get_all_contract_transactions(start_block_number=0, end_block_number=40000):\n",
    "    contract_address_transactions_receipts = list()\n",
    "    contract_address_transactions = list()\n",
    "    pp.pprint(f\"Searching for all contract transactions within blocks {start_block_number} and {end_block_number}\")\n",
    "    \n",
    "    for block_number in range(start_block_number, end_block_number+1):\n",
    "        block = w3.eth.getBlock(block_number, full_transactions=True)\n",
    "        \n",
    "        transactions = block[\"transactions\"]\n",
    "        for transaction in transactions:\n",
    "            trans_rec = w3.eth.getTransactionReceipt(transaction[\"hash\"])\n",
    "            \n",
    "            if \"contractAddress\" in trans_rec and trans_rec[\"contractAddress\"] is not None:\n",
    "                contract_address_transactions_receipts.append(trans_rec)\n",
    "                contract_address_transactions.append(transaction)\n",
    "          \n",
    "    return contract_address_transactions, contract_address_transactions_receipts\n",
    "\n",
    "def get_contract_transactions_for_contract_address(contract_address=CONTRACT_ADDRESS_A, start_block_number=0, end_block_number=40000):\n",
    "    contract_address_transactions_receipts = list()\n",
    "    contract_address_transactions = list()\n",
    "    pp.pprint(f\"Searching for contract transactions to/from account {contract_address} within blocks {start_block_number} and {end_block_number}\")\n",
    "    \n",
    "    for block_number in range(start_block_number, end_block_number+1):\n",
    "        block = w3.eth.getBlock(block_number, full_transactions=True)\n",
    "        \n",
    "        transactions = block[\"transactions\"]\n",
    "        for transaction in transactions:\n",
    "            trans_rec = w3.eth.getTransactionReceipt(transaction[\"hash\"])\n",
    "            \n",
    "            if transaction[\"to\"] == contract_address:\n",
    "                contract_address_transactions.append(transaction)\n",
    "                contract_address_transactions_receipts.append(trans_rec)\n",
    "            if \"contractAddress\" in trans_rec and trans_rec[\"contractAddress\"] == contract_address:\n",
    "                contract_address_transactions_receipts.append(trans_rec)\n",
    "                contract_address_transactions.append(transaction)\n",
    "          \n",
    "    return contract_address_transactions, contract_address_transactions_receipts\n",
    "\n",
    "\n",
    "\n",
    "\n",
    "number = w3.eth.getBlock('latest').number\n"
   ]
  },
  {
   "cell_type": "code",
   "execution_count": null,
   "metadata": {
    "scrolled": false
   },
   "outputs": [],
   "source": [
    "# get transaction receipts where contract was involved\n",
    "trans, recs = get_contract_transactions_for_contract_address(CONTRACT_ADDRESS_A, 0, number)\n",
    "print(\"\\n Transactions: \\n\")\n",
    "pp.pprint(trans) \n",
    "print(\"\\n Receipts: \\n\")\n",
    "pp.pprint(recs)"
   ]
  },
  {
   "cell_type": "code",
   "execution_count": null,
   "metadata": {
    "scrolled": false
   },
   "outputs": [],
   "source": [
    "# get all transactions and recipts of all contract transactions\n",
    "all_trans, all_recs = get_all_contract_transactions(0, number)\n",
    "print(\"\\n Transactions: \\n\")\n",
    "pp.pprint(all_trans)\n",
    "print(\"\\n Receipts: \\n\")\n",
    "pp.pprint(all_recs)"
   ]
  },
  {
   "cell_type": "code",
   "execution_count": null,
   "metadata": {},
   "outputs": [],
   "source": [
    "def normalise(x, allow_blank=False):\n",
    "    if allow_blank and x == '':\n",
    "        return ''\n",
    "    if len(x) in (42, 50) and x[:2] == '0x':\n",
    "        x = x[2:]\n",
    "    if len(x) in (40, 48):\n",
    "        x = decode_hex(x)\n",
    "    if len(x) == 24:\n",
    "        assert len(x) == 24 and ssha3.keccak_256(x[:20])[:4] == x[-4:]\n",
    "        x = x[:20]\n",
    "    if len(x) != 20:\n",
    "        raise Exception(\"Invalid address format: %r\" % x)\n",
    "    return x\n",
    "\n",
    "def mk_contract_address(sender, nonce):\n",
    "    normie_sender = normalise(sender)\n",
    "    res = sha3.keccak_256(encode([normie_sender, nonce])).hexdigest()\n",
    "    return res[12:]\n",
    "\n",
    "# from or contract address of previous contract transactions\n",
    "#contract_address = \"0x\" + mk_contract_address(\"0xBF8e90753D5a55ffC3683AB3bf8b7C82Ce52113d\", 14)\n",
    "contract_address = \"0x\" + mk_contract_address(CONTRACT_ADDRESS_A, 5)\n",
    "get_all_transactions_for_contract_address(contract_address, 0, number)"
   ]
  },
  {
   "cell_type": "code",
   "execution_count": null,
   "metadata": {
    "scrolled": false
   },
   "outputs": [],
   "source": [
    "# get transaction receipts where contract was involved\n",
    "trans, recs = get_contract_transactions_for_contract_address(\"0xE1EfC7F8F50e2607Ae7c03E27c283339A95373f0\", 0, number)\n",
    "print(\"\\n Transactions: \\n\")\n",
    "pp.pprint(trans) \n",
    "print(\"\\n Receipts: \\n\")\n",
    "pp.pprint(recs)"
   ]
  }
 ],
 "metadata": {
  "kernelspec": {
   "display_name": "Python 3",
   "language": "python",
   "name": "python3"
  },
  "language_info": {
   "codemirror_mode": {
    "name": "ipython",
    "version": 3
   },
   "file_extension": ".py",
   "mimetype": "text/x-python",
   "name": "python",
   "nbconvert_exporter": "python",
   "pygments_lexer": "ipython3",
   "version": "3.6.9"
  }
 },
 "nbformat": 4,
 "nbformat_minor": 2
}
