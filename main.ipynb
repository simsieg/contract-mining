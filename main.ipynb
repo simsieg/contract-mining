{
 "cells": [
  {
   "cell_type": "markdown",
   "metadata": {},
   "source": [
    "# Mining Processes From Smart Contracts"
   ]
  },
  {
   "cell_type": "code",
   "execution_count": null,
   "metadata": {},
   "outputs": [],
   "source": [
    "from web3 import Web3 as web3\n",
    "from web3 import Web3"
   ]
  },
  {
   "cell_type": "code",
   "execution_count": null,
   "metadata": {},
   "outputs": [],
   "source": [
    "w3 = Web3(Web3.WebsocketProvider(\"ws://127.0.0.1:8545\", websocket_kwargs={'timeout': 60}))\n",
    "w3.isConnected()"
   ]
  },
  {
   "cell_type": "code",
   "execution_count": null,
   "metadata": {},
   "outputs": [],
   "source": [
    "import pprint\n",
    "pp = pprint.PrettyPrinter(indent=2)"
   ]
  },
  {
   "cell_type": "code",
   "execution_count": null,
   "metadata": {},
   "outputs": [],
   "source": [
    "events = {\n",
    "    b\"Created(bytes)\": \"\",\n",
    "    b\"Started()\": \"\",\n",
    "    b\"Finished(bytes)\": \"\",\n",
    "    b\"TaskRequest(uint8,bytes)\": \"\",\n",
    "    b\"TaskResponse(uint8,bytes)\": \"\",\n",
    "    b\"SubChoreographyCreated(uint8,bytes,address)\": \"\",\n",
    "    b\"SubChoreographyFinished(uint8,bytes,bool)\": \"\",\n",
    "    b\"ThrewTrigger(uint8,bytes)\": \"\",\n",
    "    b\"CaughtTrigger(uint8,bytes,address)\": \"\",\n",
    "    b\"UncaughtTrigger(uint8,bytes,address)\": \"\",\n",
    "    b\"ParticipantRegistered(address,uint8)\": \"\",\n",
    "    b\"Interrupted()\": \"\",\n",
    "    b\"Interrupting()\": \"\",\n",
    "    b\"ChoreographyCreated(address,bytes)\": \"\",\n",
    "    b\"DebugFlowExecuted(uint8)\": \"\",\n",
    "    b\"DebugTokens(uint256)\": \"\"\n",
    "}\n",
    "\n",
    "event_identifiers = {}"
   ]
  },
  {
   "cell_type": "code",
   "execution_count": null,
   "metadata": {},
   "outputs": [],
   "source": [
    "import sha3\n",
    "for key in events.keys():\n",
    "    event_hash = sha3.keccak_256()\n",
    "    event_hash.update(key)\n",
    "    hash_sum = event_hash.hexdigest()\n",
    "    events[key] = hash_sum\n",
    "    event_identifiers[hash_sum] = key\n",
    "    \n",
    "pp.pprint(events)"
   ]
  },
  {
   "cell_type": "markdown",
   "metadata": {
    "scrolled": false
   },
   "source": [
    "# first deployed contract from blockchain_etl\n",
    "ROOT_CONTRACT_ADDRESS = w3.toChecksumAddress(\"0xcd23eCBBdBcC03aE1Bcf658Fd3893F2c6f87DeEf\")\n",
    "FACTORY_ADDRESS_A = \"0x54497Da55F80B125a2050373fb7230e5A4eFA077\"\n",
    "FACTORY_ADDRESS_B = \"0x7F79072c37A02e1F9474aa18Be0B4FeAA68cE624\"\n",
    "PARTICIPANTS_CONTAINER = \"0xcd23eCBBdBcC03aE1Bcf658Fd3893F2c6f87DeEf\"\n",
    "\n",
    "root_contract_filter = w3.eth.filter({\n",
    "    \"fromBlock\": \"0x0\",\n",
    "    \"toBlock\": \"latest\",\n",
    "    \"address\": ROOT_CONTRACT_ADDRESS\n",
    "})\n",
    "root_event_list = root_contract_filter.get_all_entries()\n",
    "\n",
    "contract_events = []\n",
    "\n",
    "for event in root_event_list:\n",
    "    topic = event[\"topics\"][0].hex()[2:]\n",
    "    if topic in event_identifiers.keys():\n",
    "        contract_events.append(event_identifiers[topic])\n",
    "    else:\n",
    "        contract_events.append(topic)\n",
    "pp.pprint(contract_events)"
   ]
  },
  {
   "cell_type": "code",
   "execution_count": null,
   "metadata": {},
   "outputs": [],
   "source": [
    "def get_events_for_contract(address):\n",
    "    contract_filter = w3.eth.filter({\n",
    "        \"fromBlock\": \"0x0\",\n",
    "        \"toBlock\": \"latest\",\n",
    "        \"address\": w3.toChecksumAddress(address)\n",
    "    })\n",
    "    event_list = contract_filter.get_all_entries()\n",
    "    contract_events = []\n",
    "\n",
    "    for event in event_list:\n",
    "        trace_event = {}\n",
    "        block_number = event[\"blockNumber\"]\n",
    "        block = w3.eth.getBlock(block_number)\n",
    "        block_time = block[\"timestamp\"]\n",
    "        trace_event[\"timestamp\"] = block_time\n",
    "        \n",
    "        topic = event[\"topics\"][0].hex()[2:] # remove 0x from hex string\n",
    "        if topic in event_identifiers.keys():\n",
    "            trace_event[\"event\"] = event_identifiers[topic]\n",
    "            print(event_identifiers[topic])\n",
    "            if event_identifiers[topic] == b'TaskRequest(uint8,bytes)':\n",
    "                print(\"YES\")\n",
    "                print((event[\"data\"]),event[\"data\"][-2:])\n",
    "        else:\n",
    "            trace_event[\"event\"] = topic\n",
    "        contract_events.append(trace_event)\n",
    "    return(contract_events)"
   ]
  },
  {
   "cell_type": "code",
   "execution_count": null,
   "metadata": {},
   "outputs": [],
   "source": [
    "# Contract addresses extracted w/ ethereum-etl\n",
    "addresses = [\n",
    "    \"0x54497da55f80b125a2050373fb7230e5a4efa077\",\n",
    "    \"0x7f79072c37a02e1f9474aa18be0b4feaa68ce624\",\n",
    "    \"0xcd23ecbbdbcc03ae1bcf658fd3893f2c6f87deef\",\n",
    "    \"0xac9de8da546a12587d1a135050a4bad03c9454a7\",\n",
    "    \"0x985c0799c4e1d5df856ad8536a761ebc285e38da\",\n",
    "    \"0x12126517e00d1658cfae45cb6ec3bdb23f2d7fee\",\n",
    "    \"0x173eebf0087599ee2b2c26b0980bb2c3926fb213\",\n",
    "    \"0x09eb457ed710b869f342b8887ae2201d165f03c5\",\n",
    "    \"0x549b7f9a3f004f192a9775e1267ab6e0ef5b3a02\",\n",
    "    \"0x1c71a360c98aee9b347b1ee22a4f0528ae2891be\",\n",
    "    \"0xa65f710409afa8ae2bbe3703e5e7ba7924e9b678\",\n",
    "    \"0xe355dc5beda5d9b3ff90a57ca25ea44c21c39a59\",\n",
    "    \"0xb842518f16c9f5cc8bad2e207a0339211e48b6c8\",\n",
    "    \"0x74f2170644de5637ec41ee73860bb332a936302e\",\n",
    "    \"0x79d43cff7033bbf2106e26827b783f2f2b2f9924\",\n",
    "    \"0x97a0ba2ba82abb04fbe80da3919a37fb8d1471fc\",\n",
    "    \"0xc6af5b60104959a0ee25da0f499b079ad1cdc5aa\",\n",
    "    \"0x0f46e37a9b1889fa0ff248d8a425bf8ee5190d9b\",\n",
    "    \"0xee642fb45e9287dd4180dc9c6b855f5f98b72aa1\",\n",
    "    \"0xac59e570330876cda6b4f0b74c63bee5c484cbcd\",\n",
    "    \"0x92e6e66c57d2f72a7729b17c503397bd2ce39a14\",\n",
    "    \"0x38736a9d62e8677da4b9d544e74c47c2dd555d8f\",\n",
    "    \"0x7c847e665fc9b3a262ea70442a645edf81f2ded9\",\n",
    "    \"0x1a09794e2aa64e44617fd5be93c013110b6e5cb2\",\n",
    "    \"0xac4fc0474e53b5cdc11e86f11573eb3a39f83ba4\",\n",
    "    \"0x4354e7cd384a739682c4f4965e1443c1a0199c26\",\n",
    "    \"0x67c56bb418b131819a067ad922569af49031f26e\",\n",
    "    \"0x2ce7e526a44b70bc8d4f8473eaa28b96b40d09e3\",\n",
    "    \"0xae2d5b8088adca7722d60bbe45468fba4cdad9e3\",\n",
    "    \"0xbfca45b31a0ea9cc5081693d2f7fe5675449a32c\",\n",
    "    \"0x0b29f6a3a25738a963fbdf126a7279e393cb6699\",\n",
    "    \"0xc2ed24bd410554a2419c5201063ad50ffef13354\",\n",
    "    \"0xe516df8fd5d55b2bf311e19840aeb89fbfc4182f\",\n",
    "    \"0xaac5270423ca6df6c709693d5b2a0cbc8d1a9acc\",\n",
    "    \"0xf4401cace6efe3ee7f6b005d4163fa7d883e3acd\",\n",
    "    \"0xabd883fe58425bd7ccec3287f4d36f1d291e8fbc\",\n",
    "    \"0x76fa1baf78d2b05805c5e3d4dfa08073d45131f6\",\n",
    "    \"0x45733739e78dc998e8b0012e7f6c3e66f1ec3b5f\",\n",
    "    \"0x3a2516faa44c96eec910fd8234d4c8c1f6fc891c\",\n",
    "    \"0x19fe432afda4a640268d61f066233369a0c28443\",\n",
    "    \"0xb48bfbd80114f168ee09c6196a777600bdbae91d\",\n",
    "    \"0x273c3f202d16ae19bc86e03b881a39effd70dfb0\",\n",
    "    \"0xfddcb3db39345087e9579e94d3e3baa89c749a9f\",\n",
    "    \"0x614c47782e17cdec596da3519d87aba979ec6f30\",\n",
    "    \"0x15db36efb5885ef9ee0e58741123352d240ec340\",\n",
    "    \"0x7498ff417f508c78917274b05b1b9ad6d0835fa9\",\n",
    "    \"0x86279f768485d61eacbe2903fa35a9044c3c99ef\",\n",
    "    \"0xba589199893528de8506e14e252043260e019074\",\n",
    "    \"0x5a96556bd1b5659f7ee2c55450acf8ef0c725686\",\n",
    "    \"0x1c3c7f949b93bdf774d8df0b2c0dbf29d1555a98\",\n",
    "    \"0x457ab7594ba17c996282e87c9832e76d9a1c3644\",\n",
    "    \"0xfc441d687c9b1996da1f780e21bd4dc5c4acb98a\",\n",
    "    \"0x29c040896560141a9962f5a464be0c50999be495\",\n",
    "    \"0x62a4b90872e0b8a9f7cb23ccdaebf52f45602eeb\",\n",
    "    \"0x6406564ad50aee6591a610be6aedc468d8904797\",\n",
    "    \"0xdb6d2884b8434a01a9e97d56919c25d835683999\",\n",
    "    \"0xf06b61905935299c04e615a7c8fd078ee85fd579\",\n",
    "    \"0x8b406644106c258cd04bd456530dc08c93df50c1\",\n",
    "    \"0x37bd3669ef19a4db1b49686e12727dd833203d8c\",\n",
    "    \"0xe35900d9f31891fb218fe0c15bf7cb24761372c0\",\n",
    "    \"0xcdcc7023450eb3056da33479d8e8e312d27c0bb0\",\n",
    "    \"0xefce392d4a8032bb807ae68875245631e9785160\",\n",
    "    \"0x3b580a97a096091fbdf384c67f3a25bef3349bda\",\n",
    "    \"0x84f7097a0ecfbc9c59036b60a253331b660ee716\",\n",
    "    \"0xeb3db7248674c5c211f75fcdc84207587cd9e30d\",\n",
    "    \"0xdcf0588abad8b6a3205a71554c6c2c7bdc1b0482\",\n",
    "    \"0x7a97df1c6a8c986a84867e8902198ea4e9bb82f5\",\n",
    "    \"0x3010ef3dad2fc818c7e6a14b16cebc068e6ed43d\",\n",
    "    \"0x45c05aa8f4e9883f94d7a173e1502138b07e1739\",\n",
    "    \"0x5855b36a02c9a0da49a12aa8e2810416b6e30e12\",\n",
    "    \"0x0559f6665c230247195c0fd249b0fc0e2af94d4f\",\n",
    "    \"0x82e66fa3951d962352a5ee6915857fa185efc2e2\",\n",
    "    \"0xaacf0f5df5a6c2804f90a47786092786d639ce02\",\n",
    "    \"0x38a209211e2184e407ca8264feea8fe2a49db0f7\",\n",
    "    \"0x1aa0c1d591ae1b60a10fcfa39a4b6337dc7b1aed\",\n",
    "    \"0x011efe7355e0291c82ffae662d9e6c0c03f1af3c\",\n",
    "    \"0xb9c35d0152b84e52c0f1058d9526715d19f38a0d\",\n",
    "    \"0xe1efc7f8f50e2607ae7c03e27c283339a95373f0\",\n",
    "    \"0x08dd90815a16d9e5acf2ee03f808bc3bb6e20bc3\"\n",
    "]\n",
    "\n",
    "rental_addresses = [\n",
    " \"0x54497Da55F80B125a2050373fb7230e5A4eFA077\",\n",
    " \"0x7F79072c37A02e1F9474aa18Be0B4FeAA68cE624\",\n",
    " \"0xcd23eCBBdBcC03aE1Bcf658Fd3893F2c6f87DeEf\",\n",
    " \"0x483b7ebDD347A754daFe63C2681302f8a465bEf0\",\n",
    " \"0xAc9dE8dA546A12587d1A135050a4BAd03c9454A7\",\n",
    " \"0xB1b83a155F16D292a0A64aE2bEA543F1Fb9F9B31\",\n",
    " \"0xbdb52cEF1F3373E9552cCFD461dfeA5941Ed99BA\",\n",
    " \"0x523ebD56B186F6d25451657b6d5ADC4FB9061030\"\n",
    "]"
   ]
  },
  {
   "cell_type": "code",
   "execution_count": null,
   "metadata": {
    "scrolled": false
   },
   "outputs": [],
   "source": [
    "traces = []\n",
    "#traces.append(get_events_for_contract(addresses[3]))\n",
    "\n",
    "for address in rental_addresses:\n",
    "    print(\"address\", address)\n",
    "    #break\n",
    "    events = get_events_for_contract(address)\n",
    "    #pp.pprint(events)\n",
    "    traces.append(events)"
   ]
  },
  {
   "cell_type": "code",
   "execution_count": null,
   "metadata": {},
   "outputs": [],
   "source": [
    "from opyenxes.factory.XFactory import XFactory\n",
    "from opyenxes.id.XIDFactory import XIDFactory\n",
    "from opyenxes.data_out.XesXmlSerializer import XesXmlSerializer"
   ]
  },
  {
   "cell_type": "code",
   "execution_count": null,
   "metadata": {},
   "outputs": [],
   "source": [
    "log = XFactory.create_log()\n",
    "for contract_events in traces:\n",
    "    trace_id = 0\n",
    "    trace = XFactory.create_trace()\n",
    "\n",
    "    id_attribute = XFactory.create_attribute_id(\"id\", \"trace_id_\" + str(trace_id))\n",
    "    trace.get_attributes()[\"id\"] = id_attribute\n",
    "    trace_id = trace_id + 1\n",
    "\n",
    "    for event in contract_events:\n",
    "        event_descriptor = event[\"event\"]  \n",
    "        log_event = XFactory.create_event()\n",
    "        timestamp_int = event[\"timestamp\"]\n",
    "        timestamp_attribute = XFactory.create_attribute_timestamp(\n",
    "            \"time:timestamp\", timestamp_int)\n",
    "        activity_attribute = XFactory.create_attribute_literal(\n",
    "            \"concept:name\", event_descriptor)\n",
    "        log_event.get_attributes(\n",
    "        )[\"timestamp\"] = timestamp_attribute\n",
    "        log_event.get_attributes()[\"Activity\"] = activity_attribute\n",
    "        trace.append(log_event)\n",
    "\n",
    "    log.append(trace)\n",
    "\n",
    "with open(\"event_log.xes\", \"w\") as file:\n",
    "    XesXmlSerializer().serialize(log, file)\n"
   ]
  },
  {
   "cell_type": "markdown",
   "metadata": {},
   "source": [
    "## Alpha Miner"
   ]
  },
  {
   "cell_type": "code",
   "execution_count": null,
   "metadata": {},
   "outputs": [],
   "source": [
    "from pm4py.algo.discovery.alpha import factory as alpha_miner\n",
    "from pm4py.objects.log.importer.xes import factory as xes_importer\n",
    "from pm4py.visualization.petrinet import factory as vis_factory\n",
    "log = xes_importer.import_log('event_log.xes')\n",
    "net, initial_marking, final_marking = alpha_miner.apply(log)\n",
    "gviz = vis_factory.apply(net, initial_marking, final_marking)\n",
    "vis_factory.view(gviz)"
   ]
  },
  {
   "cell_type": "markdown",
   "metadata": {},
   "source": [
    "## Inductive Miner"
   ]
  },
  {
   "cell_type": "code",
   "execution_count": null,
   "metadata": {},
   "outputs": [],
   "source": [
    "import os\n",
    "from pm4py.objects.log.importer.xes import factory as xes_importer\n",
    "from pm4py.algo.discovery.inductive import factory as inductive_miner\n",
    "from pm4py.visualization.process_tree import factory as pt_vis_factory\n",
    "\n",
    "og = xes_importer.import_log(os.path.join(\"event_log.xes\"))\n",
    "net, initial_marking, final_marking = inductive_miner.apply(log)\n",
    "\n",
    "\n",
    "gviz = vis_factory.apply(net, initial_marking, final_marking)\n",
    "vis_factory.view(gviz)\n"
   ]
  },
  {
   "cell_type": "markdown",
   "metadata": {},
   "source": [
    "## Heuristic Miner"
   ]
  },
  {
   "cell_type": "code",
   "execution_count": null,
   "metadata": {},
   "outputs": [],
   "source": [
    "from pm4py.objects.log.importer.xes import factory as xes_importer\n",
    "import os\n",
    "log_path = os.path.join(\"event_log.xes\")\n",
    "log = xes_importer.apply(log_path)\n",
    "\n",
    "from pm4py.algo.discovery.heuristics import factory as heuristics_miner\n",
    "heu_net = heuristics_miner.apply_heu(log, parameters={\"dependency_thresh\": 0.5})\n",
    "\n",
    "\n",
    "from pm4py.visualization.heuristics_net import factory as hn_vis_factory\n",
    "gviz = hn_vis_factory.apply(heu_net)\n",
    "hn_vis_factory.view(gviz)"
   ]
  }
 ],
 "metadata": {
  "kernelspec": {
   "display_name": "Python 3",
   "language": "python",
   "name": "python3"
  },
  "language_info": {
   "codemirror_mode": {
    "name": "ipython",
    "version": 3
   },
   "file_extension": ".py",
   "mimetype": "text/x-python",
   "name": "python",
   "nbconvert_exporter": "python",
   "pygments_lexer": "ipython3",
   "version": "3.7.6"
  }
 },
 "nbformat": 4,
 "nbformat_minor": 2
}
